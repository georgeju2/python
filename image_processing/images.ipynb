{
 "cells": [
  {
   "cell_type": "code",
   "execution_count": 24,
   "id": "dd1f25e1-db9f-4869-b499-c5b639c52a4c",
   "metadata": {},
   "outputs": [],
   "source": [
    "import os\n",
    "from pathlib import Path\n",
    "import shutil\n",
    "imgdir = Path(r'D:\\photos')\n",
    "todir = Path(r'D:\\copied_photos')"
   ]
  },
  {
   "cell_type": "code",
   "execution_count": 7,
   "id": "1a796d84-4067-4cc5-a3ea-e7e3753fa956",
   "metadata": {},
   "outputs": [],
   "source": [
    "imgfiles = os.listdir(phdir)"
   ]
  },
  {
   "cell_type": "code",
   "execution_count": 12,
   "id": "6c2067d8-28c1-4831-946f-59e8f5d9e0c9",
   "metadata": {},
   "outputs": [],
   "source": [
    "from PIL import Image\n",
    "\n",
    "image = Image.open(imgdir / imgfiles[0])\n",
    "image.show()"
   ]
  },
  {
   "cell_type": "code",
   "execution_count": 36,
   "id": "0f066c97-5c8b-4d02-8744-c809d4a5cbf5",
   "metadata": {},
   "outputs": [
    {
     "name": "stdin",
     "output_type": "stream",
     "text": [
      "What is the name of the image file?  \n"
     ]
    },
    {
     "name": "stdout",
     "output_type": "stream",
     "text": [
      "Yes!\n"
     ]
    },
    {
     "name": "stdin",
     "output_type": "stream",
     "text": [
      "What is the name of the image file?  \n"
     ]
    },
    {
     "name": "stdout",
     "output_type": "stream",
     "text": [
      "Yes!\n"
     ]
    },
    {
     "name": "stdin",
     "output_type": "stream",
     "text": [
      "What is the name of the image file?  \n"
     ]
    },
    {
     "name": "stdout",
     "output_type": "stream",
     "text": [
      "Yes!\n"
     ]
    },
    {
     "name": "stdin",
     "output_type": "stream",
     "text": [
      "What is the name of the image file?  n\n"
     ]
    },
    {
     "name": "stdout",
     "output_type": "stream",
     "text": [
      ".n.\n"
     ]
    },
    {
     "name": "stdin",
     "output_type": "stream",
     "text": [
      "What is the name of the image file?  \n"
     ]
    },
    {
     "name": "stdout",
     "output_type": "stream",
     "text": [
      "Yes!\n"
     ]
    },
    {
     "name": "stdin",
     "output_type": "stream",
     "text": [
      "What is the name of the image file?  \n"
     ]
    },
    {
     "name": "stdout",
     "output_type": "stream",
     "text": [
      "Yes!\n"
     ]
    },
    {
     "name": "stdin",
     "output_type": "stream",
     "text": [
      "What is the name of the image file?  \n"
     ]
    },
    {
     "name": "stdout",
     "output_type": "stream",
     "text": [
      "Yes!\n"
     ]
    },
    {
     "name": "stdin",
     "output_type": "stream",
     "text": [
      "What is the name of the image file?  \n"
     ]
    },
    {
     "name": "stdout",
     "output_type": "stream",
     "text": [
      "Yes!\n"
     ]
    },
    {
     "name": "stdin",
     "output_type": "stream",
     "text": [
      "What is the name of the image file?  n\n"
     ]
    },
    {
     "name": "stdout",
     "output_type": "stream",
     "text": [
      ".n.\n"
     ]
    },
    {
     "name": "stdin",
     "output_type": "stream",
     "text": [
      "What is the name of the image file?  \n"
     ]
    },
    {
     "name": "stdout",
     "output_type": "stream",
     "text": [
      "Yes!\n",
      "next index 100\n"
     ]
    }
   ],
   "source": [
    "for i in range(nexti, nexti+10):\n",
    "    imgfile = imgfiles[i]\n",
    "    image = Image.open(imgdir/ imgfile)\n",
    "    image.show()\n",
    "    ans = input(\"What is the name of the image file? \")\n",
    "    if ans.upper()=='Y' or ans==\"\":\n",
    "        print(\"Yes!\")\n",
    "        image.save(todir / imgfile.replace('.jpg', '.png') )\n",
    "    elif ans.lower().startswith('q'):\n",
    "        print(\"quit!\")\n",
    "        break\n",
    "    else: print(f\".{ans}.\")\n",
    "nexti = i + 1\n",
    "print(\"next index\", nexti)"
   ]
  },
  {
   "cell_type": "code",
   "execution_count": 28,
   "id": "4aab0949-79a2-47d8-abb6-cee86aacb4fd",
   "metadata": {},
   "outputs": [],
   "source": [
    "nexti=20"
   ]
  },
  {
   "cell_type": "code",
   "execution_count": null,
   "id": "74bfb813-45fb-476d-936f-5523b0ef2ba6",
   "metadata": {},
   "outputs": [],
   "source": []
  }
 ],
 "metadata": {
  "kernelspec": {
   "display_name": "Python 3 (ipykernel)",
   "language": "python",
   "name": "python3"
  },
  "language_info": {
   "codemirror_mode": {
    "name": "ipython",
    "version": 3
   },
   "file_extension": ".py",
   "mimetype": "text/x-python",
   "name": "python",
   "nbconvert_exporter": "python",
   "pygments_lexer": "ipython3",
   "version": "3.10.4"
  }
 },
 "nbformat": 4,
 "nbformat_minor": 5
}
