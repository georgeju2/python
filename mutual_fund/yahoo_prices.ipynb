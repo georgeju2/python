{
 "cells": [
  {
   "cell_type": "code",
   "execution_count": 33,
   "id": "b2b103ea-bd2e-41b7-b188-424b930b1f8e",
   "metadata": {},
   "outputs": [
    {
     "name": "stdout",
     "output_type": "stream",
     "text": [
      "Vanguard Emerging Markets Stock\n"
     ]
    }
   ],
   "source": [
    "import yfinance as yf\n",
    "import pandas as pd\n",
    "import datetime\n",
    "from datetime import timedelta\n",
    "\n",
    "ticker='VEMAX'\n",
    "gfi = yf.Ticker(ticker)\n",
    "print(gfi.info['shortName'])\n",
    "\n",
    "pd.set_option('display.max_rows', None)\n",
    "pd.set_option('display.max_columns', None)\n",
    "pd.set_option('display.expand_frame_repr', False)\n",
    "pd.set_option('max_colwidth', None)\n",
    "pd.set_option('display.precision', 2)\n",
    "\n",
    "last_dt_prev_year = datetime.date(2023, 12, 29)"
   ]
  },
  {
   "cell_type": "code",
   "execution_count": 34,
   "id": "7c273ec4-91fc-49a8-8d8b-d6e0c9df6a65",
   "metadata": {},
   "outputs": [
    {
     "name": "stdout",
     "output_type": "stream",
     "text": [
      "['VTCLX', 'VBTLX', 'VTMSX', 'VIPSX', 'VFIAX', 'VTIAX', 'VMRXX', 'VTMGX', 'VMSXX', 'VEMAX']\n"
     ]
    },
    {
     "name": "stderr",
     "output_type": "stream",
     "text": [
      "[*********************100%%**********************]  10 of 10 completed\n"
     ]
    }
   ],
   "source": [
    "tickers=['VTCLX', 'VBTLX', 'VTMSX', 'VIPSX', 'VFIAX', 'VTIAX', 'VMRXX', 'VTMGX', 'VMSXX', 'VEMAX']\n",
    "print(tickers)\n",
    "\n",
    "downloaded = yf.download(tickers = tickers, period='1y', interval='1d')\n",
    "histpx=downloaded['Adj Close'].sort_index(ascending=False)\n",
    "histpx.index=histpx.index.date"
   ]
  },
  {
   "cell_type": "code",
   "execution_count": 35,
   "id": "581d7957-bb96-4f79-bd36-7045ed395597",
   "metadata": {},
   "outputs": [
    {
     "name": "stdout",
     "output_type": "stream",
     "text": [
      "VTCLX Vanguard Tax-Managed Capital Ap\n",
      "VBTLX Vanguard Total Bond Market Inde\n",
      "VTMSX Vanguard Tax Managed Small Cap \n",
      "VIPSX Vanguard Inflation Protected Se\n",
      "VFIAX Vanguard 500 Index Fd Admiral S\n",
      "VTIAX Vanguard Total International St\n",
      "VMRXX Vanguard Cash Reserves Federal \n",
      "VTMGX Vanguard Developed Markets Inde\n",
      "VMSXX Vanguard Municipal Money Market\n",
      "VEMAX Vanguard Emerging Markets Stock\n"
     ]
    }
   ],
   "source": [
    "tk_2_name_d = {}\n",
    "\n",
    "def get_return(px, d1, d2):\n",
    "    print(px[d2]-px[d1])\n",
    "    \n",
    "for tk in tickers:\n",
    "    gfi = yf.Ticker(tk)\n",
    "    tk_2_name_d[tk] = gfi.info['shortName']\n",
    "    print(tk, gfi.info['shortName'])\n",
    "\n",
    "#tk_2_name_d, tk_2_name_d.keys()"
   ]
  },
  {
   "cell_type": "code",
   "execution_count": 36,
   "id": "070f9471-6618-45fa-b8e4-c42f00d585e0",
   "metadata": {},
   "outputs": [
    {
     "name": "stdout",
     "output_type": "stream",
     "text": [
      "            VBTLX  VEMAX   VFIAX  VIPSX  VMRXX  VMSXX   VTCLX  VTIAX  VTMGX  VTMSX\n",
      "2024-01-22   9.58  32.68  447.71  11.68    NaN    NaN  251.04  30.27  15.05  86.39\n",
      "2024-01-21    NaN    NaN     NaN    NaN    1.0    1.0     NaN    NaN    NaN    NaN\n",
      "2024-01-19   9.56  33.02  446.73  11.67    1.0    1.0  250.17  30.29  15.02  84.77\n",
      "2024-01-18   9.56  32.74  441.27  11.66    1.0    1.0  247.16  30.15  14.97  83.84\n",
      "2024-01-17   9.58  32.56  437.39  11.66    1.0    1.0  244.96  29.92  14.84  83.07\n",
      "2024-01-16   9.61  33.09  439.85  11.69    1.0    1.0  246.37  30.32  15.03  83.86\n",
      "2024-01-12   9.67  33.62  441.49  11.75    1.0    1.0  247.33  30.80  15.26  84.72\n",
      "2024-01-11   9.65  33.52  441.12  11.70    1.0    1.0  247.21  30.69  15.21  84.90\n",
      "2024-01-10   9.61  33.36  441.40  11.65    1.0    1.0  247.36  30.67  15.22  85.46\n",
      "2024-01-09   9.62  33.39  438.91  11.66    1.0    1.0  245.97  30.59  15.16  85.14\n",
      "2024-01-08   9.63  33.67  439.50  11.68    1.0    1.0  246.37  30.85  15.29  86.12\n",
      "2024-01-05   9.59  33.69  433.38  11.65    1.0    1.0  242.81  30.63  15.14  84.74\n",
      "2024-01-04   9.61  33.68  432.59  11.67    1.0    1.0  242.39  30.61  15.13  85.01\n",
      "2024-01-03   9.66  33.68  434.02  11.73    1.0    1.0  243.14  30.55  15.09  85.07\n",
      "2024-01-02   9.66  33.81  437.51  11.71    1.0    1.0  245.45  30.79  15.23  87.42\n",
      "2023-12-29   9.71  34.06  439.99  11.73    1.0    1.0  247.12  31.08  15.40  87.91\n",
      "2023-12-28   9.71  34.06  441.21  11.74    1.0    1.0  247.96  31.08  15.38  89.09\n",
      "2023-12-27   9.74  33.76  441.00  11.78    1.0    1.0  247.86  31.06  15.41  89.27\n",
      "2023-12-26   9.68  33.54  440.34  11.73    1.0    1.0  247.46  30.80  15.28  89.39\n",
      "2023-12-22   9.68  33.39  438.48  11.73    1.0    1.0  246.38  30.69  15.23  88.38\n"
     ]
    }
   ],
   "source": [
    "#histpx = histpx.sort_index(ascending=False)\n",
    "print(histpx[:20])"
   ]
  },
  {
   "cell_type": "code",
   "execution_count": 40,
   "id": "7786e5fd-79b4-4684-baa7-686546857a9f",
   "metadata": {},
   "outputs": [
    {
     "name": "stdout",
     "output_type": "stream",
     "text": [
      "1.15 (%),  1.23  VTCLX Vanguard Tax-Managed Capital Ap\n",
      "-1.14 (%),  -1.54  VBTLX Vanguard Total Bond Market Inde\n",
      "0.06 (%),  -3.57  VTMSX Vanguard Tax Managed Small Cap \n",
      "-0.68 (%),  -0.51  VIPSX Vanguard Inflation Protected Se\n",
      "1.19 (%),  1.53  VFIAX Vanguard 500 Index Fd Admiral S\n",
      "-1.66 (%),  -2.54  VTIAX Vanguard Total International St\n",
      "0.0 (%),  0.0  VMRXX Vanguard Cash Reserves Federal \n",
      "-1.57 (%),  -2.47  VTMGX Vanguard Developed Markets Inde\n",
      "0.0 (%),  0.0  VMSXX Vanguard Municipal Money Market\n",
      "-1.78 (%),  -3.05  VEMAX Vanguard Emerging Markets Stock\n"
     ]
    }
   ],
   "source": [
    "def last_friday():\n",
    "    return datetime.date(2024, 1, 19)\n",
    "\n",
    "def one_week_before(d1):\n",
    "    return d1 - datetime.timedelta(days=7)\n",
    "\n",
    "def pick_weekly_data(data, k=4):\n",
    "    assert k <=6 and k >=0\n",
    "    return data[list(map(lambda d: datetime.date.weekday(d)==k, data.index.tolist()))]\n",
    "\n",
    "for tk in tickers:\n",
    "    last_yr_close = histpx.loc[last_dt_prev_year][tk]\n",
    "    last= last_friday()\n",
    "    one_wk_before = one_week_before(last)\n",
    "    last_px = histpx.loc[last][tk]\n",
    "    prev_weekly_px =histpx.loc[one_wk_before][tk]\n",
    "    onewk_earlier = one_week_before(last)\n",
    "    wk_ret = (last_px-prev_weekly_px)/prev_weekly_px*100\n",
    "    ytd_ret = (last_px-last_yr_close)/last_yr_close*100\n",
    "    print(f\"{round(wk_ret, 2)} (%),  {round(ytd_ret, 2)} \", tk, tk_2_name_d[tk])\n",
    "    #print(tk, histpx[tk].head())"
   ]
  },
  {
   "cell_type": "code",
   "execution_count": 42,
   "id": "9d3645a9-9d09-4122-80d1-745f4cabe934",
   "metadata": {},
   "outputs": [
    {
     "data": {
      "text/html": [
       "<div>\n",
       "<style scoped>\n",
       "    .dataframe tbody tr th:only-of-type {\n",
       "        vertical-align: middle;\n",
       "    }\n",
       "\n",
       "    .dataframe tbody tr th {\n",
       "        vertical-align: top;\n",
       "    }\n",
       "\n",
       "    .dataframe thead th {\n",
       "        text-align: right;\n",
       "    }\n",
       "</style>\n",
       "<table border=\"1\" class=\"dataframe\">\n",
       "  <thead>\n",
       "    <tr style=\"text-align: right;\">\n",
       "      <th></th>\n",
       "      <th>2023-12-29</th>\n",
       "      <th>2024-01-12</th>\n",
       "      <th>2024-01-19</th>\n",
       "      <th>fund name</th>\n",
       "      <th>1_wk (%)</th>\n",
       "      <th>ytd (%)</th>\n",
       "    </tr>\n",
       "  </thead>\n",
       "  <tbody>\n",
       "    <tr>\n",
       "      <th>VTMSX</th>\n",
       "      <td>87.91</td>\n",
       "      <td>84.72</td>\n",
       "      <td>84.77</td>\n",
       "      <td>Tax Managed Small Cap</td>\n",
       "      <td>0.06</td>\n",
       "      <td>-3.57</td>\n",
       "    </tr>\n",
       "    <tr>\n",
       "      <th>VEMAX</th>\n",
       "      <td>34.06</td>\n",
       "      <td>33.62</td>\n",
       "      <td>33.02</td>\n",
       "      <td>Emerging Markets Stock</td>\n",
       "      <td>-1.78</td>\n",
       "      <td>-3.05</td>\n",
       "    </tr>\n",
       "    <tr>\n",
       "      <th>VTIAX</th>\n",
       "      <td>31.08</td>\n",
       "      <td>30.80</td>\n",
       "      <td>30.29</td>\n",
       "      <td>Total International St</td>\n",
       "      <td>-1.66</td>\n",
       "      <td>-2.54</td>\n",
       "    </tr>\n",
       "    <tr>\n",
       "      <th>VTMGX</th>\n",
       "      <td>15.40</td>\n",
       "      <td>15.26</td>\n",
       "      <td>15.02</td>\n",
       "      <td>Developed Markets Inde</td>\n",
       "      <td>-1.57</td>\n",
       "      <td>-2.47</td>\n",
       "    </tr>\n",
       "    <tr>\n",
       "      <th>VBTLX</th>\n",
       "      <td>9.71</td>\n",
       "      <td>9.67</td>\n",
       "      <td>9.56</td>\n",
       "      <td>Total Bond Market Inde</td>\n",
       "      <td>-1.14</td>\n",
       "      <td>-1.54</td>\n",
       "    </tr>\n",
       "    <tr>\n",
       "      <th>VIPSX</th>\n",
       "      <td>11.73</td>\n",
       "      <td>11.75</td>\n",
       "      <td>11.67</td>\n",
       "      <td>Inflation Protected Se</td>\n",
       "      <td>-0.68</td>\n",
       "      <td>-0.51</td>\n",
       "    </tr>\n",
       "    <tr>\n",
       "      <th>VMRXX</th>\n",
       "      <td>1.00</td>\n",
       "      <td>1.00</td>\n",
       "      <td>1.00</td>\n",
       "      <td>Cash Reserves Federal</td>\n",
       "      <td>0.00</td>\n",
       "      <td>0.00</td>\n",
       "    </tr>\n",
       "    <tr>\n",
       "      <th>VMSXX</th>\n",
       "      <td>1.00</td>\n",
       "      <td>1.00</td>\n",
       "      <td>1.00</td>\n",
       "      <td>Municipal Money Market</td>\n",
       "      <td>0.00</td>\n",
       "      <td>0.00</td>\n",
       "    </tr>\n",
       "    <tr>\n",
       "      <th>VTCLX</th>\n",
       "      <td>247.12</td>\n",
       "      <td>247.33</td>\n",
       "      <td>250.17</td>\n",
       "      <td>Tax-Managed Capital Ap</td>\n",
       "      <td>1.15</td>\n",
       "      <td>1.23</td>\n",
       "    </tr>\n",
       "    <tr>\n",
       "      <th>VFIAX</th>\n",
       "      <td>439.99</td>\n",
       "      <td>441.49</td>\n",
       "      <td>446.73</td>\n",
       "      <td>500 Index Fd Admiral S</td>\n",
       "      <td>1.19</td>\n",
       "      <td>1.53</td>\n",
       "    </tr>\n",
       "  </tbody>\n",
       "</table>\n",
       "</div>"
      ],
      "text/plain": [
       "       2023-12-29  2024-01-12  2024-01-19               fund name  1_wk (%)  ytd (%)\n",
       "VTMSX       87.91       84.72       84.77  Tax Managed Small Cap       0.06    -3.57\n",
       "VEMAX       34.06       33.62       33.02  Emerging Markets Stock     -1.78    -3.05\n",
       "VTIAX       31.08       30.80       30.29  Total International St     -1.66    -2.54\n",
       "VTMGX       15.40       15.26       15.02  Developed Markets Inde     -1.57    -2.47\n",
       "VBTLX        9.71        9.67        9.56  Total Bond Market Inde     -1.14    -1.54\n",
       "VIPSX       11.73       11.75       11.67  Inflation Protected Se     -0.68    -0.51\n",
       "VMRXX        1.00        1.00        1.00  Cash Reserves Federal       0.00     0.00\n",
       "VMSXX        1.00        1.00        1.00  Municipal Money Market      0.00     0.00\n",
       "VTCLX      247.12      247.33      250.17  Tax-Managed Capital Ap      1.15     1.23\n",
       "VFIAX      439.99      441.49      446.73  500 Index Fd Admiral S      1.19     1.53"
      ]
     },
     "execution_count": 42,
     "metadata": {},
     "output_type": "execute_result"
    }
   ],
   "source": [
    "def get_name(r):\n",
    "    #print(r.name)\n",
    "    fund_name = tk_2_name_d[r.name].replace(\"Vanguard \", \"\")\n",
    "    return fund_name\n",
    "\n",
    "price_dates = [last_dt_prev_year, one_wk_before, last]\n",
    "prices = histpx.loc[price_dates].T\n",
    "prices.loc[:, 'fund name'] = prices.apply(get_name, axis=1)\n",
    "prices.loc[:, '1_wk (%)'] = (prices[last] - prices[one_wk_before])/prices[one_wk_before]*100\n",
    "prices.loc[:, 'ytd (%)'] = (prices[last] - prices[last_dt_prev_year])/prices[last_dt_prev_year]*100\n",
    "\n",
    "prices.sort_values('ytd (%)')"
   ]
  },
  {
   "cell_type": "code",
   "execution_count": 19,
   "id": "dd32a880-2500-43d3-8981-ac1a94ca5313",
   "metadata": {},
   "outputs": [],
   "source": []
  },
  {
   "cell_type": "code",
   "execution_count": null,
   "id": "2a316a79-3dcf-492d-871b-96749931abfe",
   "metadata": {},
   "outputs": [],
   "source": [
    "pick_weekly_data(histpx)"
   ]
  }
 ],
 "metadata": {
  "kernelspec": {
   "display_name": "Python 3 (ipykernel)",
   "language": "python",
   "name": "python3"
  },
  "language_info": {
   "codemirror_mode": {
    "name": "ipython",
    "version": 3
   },
   "file_extension": ".py",
   "mimetype": "text/x-python",
   "name": "python",
   "nbconvert_exporter": "python",
   "pygments_lexer": "ipython3",
   "version": "3.10.4"
  }
 },
 "nbformat": 4,
 "nbformat_minor": 5
}
